{
 "cells": [
  {
   "cell_type": "markdown",
   "metadata": {},
   "source": [
    "## Problem 1"
   ]
  },
  {
   "cell_type": "code",
   "execution_count": 14,
   "metadata": {},
   "outputs": [
    {
     "name": "stdout",
     "output_type": "stream",
     "text": [
      "How many ounces of birds are carrying the coconuts? 5.5\n"
     ]
    }
   ],
   "source": [
    "bird = float(input(\"How many ounces of birds are carrying the coconuts? \"))"
   ]
  },
  {
   "cell_type": "code",
   "execution_count": 15,
   "metadata": {},
   "outputs": [
    {
     "data": {
      "text/plain": [
       "5.5"
      ]
     },
     "execution_count": 15,
     "metadata": {},
     "output_type": "execute_result"
    }
   ],
   "source": [
    "bird\n"
   ]
  },
  {
   "cell_type": "code",
   "execution_count": 16,
   "metadata": {},
   "outputs": [
    {
     "data": {
      "text/plain": [
       "float"
      ]
     },
     "execution_count": 16,
     "metadata": {},
     "output_type": "execute_result"
    }
   ],
   "source": [
    "type(bird)"
   ]
  },
  {
   "cell_type": "code",
   "execution_count": 17,
   "metadata": {},
   "outputs": [
    {
     "name": "stdout",
     "output_type": "stream",
     "text": [
      "How many pounds of coconuts are there? 1\n"
     ]
    }
   ],
   "source": [
    "coconuts = float(input(\"How many pounds of coconuts are there? \"))"
   ]
  },
  {
   "cell_type": "code",
   "execution_count": 18,
   "metadata": {},
   "outputs": [
    {
     "data": {
      "text/plain": [
       "1.0"
      ]
     },
     "execution_count": 18,
     "metadata": {},
     "output_type": "execute_result"
    }
   ],
   "source": [
    "coconuts"
   ]
  },
  {
   "cell_type": "code",
   "execution_count": 19,
   "metadata": {},
   "outputs": [
    {
     "data": {
      "text/plain": [
       "5.5"
      ]
     },
     "execution_count": 19,
     "metadata": {},
     "output_type": "execute_result"
    }
   ],
   "source": [
    "bird/coconuts"
   ]
  },
  {
   "cell_type": "code",
   "execution_count": 22,
   "metadata": {},
   "outputs": [
    {
     "name": "stdout",
     "output_type": "stream",
     "text": [
      "How many ounces of birds are carrying the coconuts? 5\n",
      "How many pounds of coconuts are there? 2\n",
      "No. Carrying the coconuts is impossible.\n"
     ]
    }
   ],
   "source": [
    "if float(input(\"How many ounces of birds are carrying the coconuts? \"))/float(input(\"How many pounds of coconuts are there? \")) >= 5.5:\n",
    "    print('Yes! Carrying the coconuts is possible.')\n",
    "else:\n",
    "    print('No. Carrying the coconuts is impossible.')"
   ]
  },
  {
   "cell_type": "markdown",
   "metadata": {},
   "source": [
    "## Problem 2"
   ]
  },
  {
   "cell_type": "code",
   "execution_count": 49,
   "metadata": {},
   "outputs": [],
   "source": [
    "cheeses = ['Muenster','Cheddar','Red Leicester']"
   ]
  },
  {
   "cell_type": "code",
   "execution_count": 50,
   "metadata": {},
   "outputs": [],
   "source": [
    "cheeses_lower = [x.lower() for x in cheeses]"
   ]
  },
  {
   "cell_type": "code",
   "execution_count": 55,
   "metadata": {},
   "outputs": [
    {
     "data": {
      "text/plain": [
       "3"
      ]
     },
     "execution_count": 55,
     "metadata": {},
     "output_type": "execute_result"
    }
   ],
   "source": [
    "len(cheeses)"
   ]
  },
  {
   "cell_type": "code",
   "execution_count": 24,
   "metadata": {},
   "outputs": [
    {
     "name": "stdout",
     "output_type": "stream",
     "text": [
      "Good morning. Welcome to the National Cheese Emporium!\n"
     ]
    }
   ],
   "source": [
    "print(\"Good morning. Welcome to the National Cheese Emporium!\")"
   ]
  },
  {
   "cell_type": "code",
   "execution_count": 37,
   "metadata": {},
   "outputs": [
    {
     "name": "stdout",
     "output_type": "stream",
     "text": [
      "What would you like? kk\n"
     ]
    }
   ],
   "source": [
    "guest_ask = input(\"What would you like? \").lower()"
   ]
  },
  {
   "cell_type": "code",
   "execution_count": 48,
   "metadata": {},
   "outputs": [
    {
     "ename": "SyntaxError",
     "evalue": "invalid syntax (<ipython-input-48-1015dc20be86>, line 2)",
     "output_type": "error",
     "traceback": [
      "\u001b[0;36m  File \u001b[0;32m\"<ipython-input-48-1015dc20be86>\"\u001b[0;36m, line \u001b[0;32m2\u001b[0m\n\u001b[0;31m    if guest_ask in [x.lower() for x in cheeses]\u001b[0m\n\u001b[0m                                                ^\u001b[0m\n\u001b[0;31mSyntaxError\u001b[0m\u001b[0;31m:\u001b[0m invalid syntax\n"
     ]
    }
   ],
   "source": [
    "while True:\n",
    "    if guest_ask in cheeses\n",
    "        print(\"We have {} cheese(s)! yessir\".format(guest_ask))\n",
    "        break\n",
    "    else:\n",
    "        print(\"I'm afraid we don't have any {}.\".format(guest_ask))\n",
    "        guest_ask = input(\"What would you like? \")\n",
    "        if guest_ask in [\"You...do have some cheese, don't you\",\"Have you in fact got any cheese here at all\"]:\n",
    "            print(f\"We have {len(cheeses)} cheeses!\\n {cheeses[0]} \\n {cheeses[1]}\\n {cheeses[2]}\")\n",
    "            guest_ask = input(\"What would you like? \")"
   ]
  },
  {
   "cell_type": "code",
   "execution_count": 59,
   "metadata": {},
   "outputs": [
    {
     "name": "stdout",
     "output_type": "stream",
     "text": [
      "We have 3 cheeses!\n",
      " Muenster\n"
     ]
    }
   ],
   "source": [
    "print(\"We have {} cheeses!\\n {}\".format(len(cheeses),cheeses[0]))"
   ]
  },
  {
   "cell_type": "code",
   "execution_count": 62,
   "metadata": {},
   "outputs": [
    {
     "name": "stdout",
     "output_type": "stream",
     "text": [
      "We have 3 cheeses!\n",
      " Muenster \n",
      " Cheddar\n",
      " Red Leicester\n"
     ]
    }
   ],
   "source": [
    "print(f\"We have {len(cheeses)} cheeses!\\n {cheeses[0]} \\n {cheeses[1]}\\n {cheeses[2]}\")"
   ]
  },
  {
   "cell_type": "code",
   "execution_count": 70,
   "metadata": {},
   "outputs": [],
   "source": [
    "name = 'kk. '"
   ]
  },
  {
   "cell_type": "code",
   "execution_count": 72,
   "metadata": {},
   "outputs": [
    {
     "data": {
      "text/plain": [
       "'kk'"
      ]
     },
     "execution_count": 72,
     "metadata": {},
     "output_type": "execute_result"
    }
   ],
   "source": [
    "name.strip('. ')"
   ]
  },
  {
   "cell_type": "code",
   "execution_count": 69,
   "metadata": {},
   "outputs": [
    {
     "data": {
      "text/plain": [
       "'kk'"
      ]
     },
     "execution_count": 69,
     "metadata": {},
     "output_type": "execute_result"
    }
   ],
   "source": [
    "name.strip().strip(\".\")"
   ]
  },
  {
   "cell_type": "code",
   "execution_count": 76,
   "metadata": {},
   "outputs": [],
   "source": [
    "def file_len(fname):\n",
    "    with open(fname) as f:\n",
    "        for i, l in enumerate(f):\n",
    "            pass\n",
    "    return i + 1"
   ]
  },
  {
   "cell_type": "code",
   "execution_count": 119,
   "metadata": {},
   "outputs": [
    {
     "name": "stdout",
     "output_type": "stream",
     "text": [
      "What is the capital of Assyriaashur\n",
      "found\n"
     ]
    }
   ],
   "source": [
    "question = 'the capital of Assyria'\n",
    "answer = ['ashur', 'kalhu', 'dur-sharrukin', 'nineveh', 'harra']\n",
    "trick_answer = input(f\"What is {question}\")\n",
    "for i, item in enumerate(answer):\n",
    "    if trick_answer.find(item) >= 0:\n",
    "        print(\"found\")\n",
    "        break\n",
    "    else:\n",
    "        print(trick_answer)\n",
    "        print(item)"
   ]
  },
  {
   "cell_type": "code",
   "execution_count": 117,
   "metadata": {},
   "outputs": [
    {
     "data": {
      "text/plain": [
       "-1"
      ]
     },
     "execution_count": 117,
     "metadata": {},
     "output_type": "execute_result"
    }
   ],
   "source": [
    "trick_answer.find('ashur')"
   ]
  },
  {
   "cell_type": "code",
   "execution_count": 116,
   "metadata": {},
   "outputs": [],
   "source": [
    "trick_answer=\"ashu\""
   ]
  },
  {
   "cell_type": "code",
   "execution_count": 102,
   "metadata": {},
   "outputs": [
    {
     "data": {
      "text/plain": [
       "0"
      ]
     },
     "execution_count": 102,
     "metadata": {},
     "output_type": "execute_result"
    }
   ],
   "source": [
    "trick_answer.find(item\n",
    "        )"
   ]
  },
  {
   "cell_type": "code",
   "execution_count": 122,
   "metadata": {},
   "outputs": [
    {
     "name": "stdout",
     "output_type": "stream",
     "text": [
      "KEEPER: Stop! Who would cross the Bridge of Death must answer me these questions three, 'ere the other side he see.\n",
      "KEEPER: What is your name? My name is Sir Lancelot of Camelot.\n",
      "KEEPER: What is your quest? To seek the Holy Grail.\n",
      "KEEPER: What is your favorite colorblue\n",
      "KEEPER: Right. Off you go.\n",
      "KEEPER: Stop! Who would cross the Bridge of Death must answer me these questions three, 'ere the other side he see.\n",
      "KEEPER: What is your name? Sir Robin of Camelot.\n",
      "KEEPER: What is your quest? To seek the Holy Grail.\n",
      "KEEPER: What is the capital of AssyriaI don't know that!\n",
      "KEEPER: CAMELOT: Auuuuuuuugh!\n",
      "KEEPER: CAMELOT: Auuuuuuuugh!\n",
      "KEEPER: CAMELOT: Auuuuuuuugh!\n",
      "KEEPER: CAMELOT: Auuuuuuuugh!\n",
      "KEEPER: CAMELOT: Auuuuuuuugh!\n",
      "KEEPER: Stop! Who would cross the Bridge of Death must answer me these questions three, 'ere the other side he see.\n",
      "KEEPER: What is your name? It is Arthur, King of the Britons.\n",
      "KEEPER: What is your quest? To seek the Holy Grail\n",
      "KEEPER: What is your favorite colorWhat do you mean? An African or European swallow?\n",
      "KEEPER: Auuuuuuuugh!\n"
     ]
    }
   ],
   "source": [
    "with open(\"answers.txt\") as f:\n",
    "    for line in f:\n",
    "        print(\"KEEPER: Stop! Who would cross the Bridge of Death must answer me these questions three, 'ere the other side he see.\")\n",
    "        name = input(\"KEEPER: What is your name? \").strip(\"!. \")\n",
    "        if name.find('?') >= 0:\n",
    "            print(\"KEEPER: Auuuuuuuugh!\")\n",
    "            break\n",
    "        quest = input(\"KEEPER: What is your quest? \").strip(\"!. \")\n",
    "        if quest.find('?') >= 0:\n",
    "            print(\"KEEPER: Auuuuuuuugh!\")\n",
    "            break\n",
    "        data = line.split(\"?\")\n",
    "        question = data[0]\n",
    "        answer = data[1].strip().split('|')\n",
    "        answer[-1] = answer[-1].strip(' \\n')\n",
    "        trick_answer = input(f\"KEEPER: What is {question}\")\n",
    "        if trick_answer.find('?') >= 0:\n",
    "            print(\"KEEPER: Auuuuuuuugh!\")\n",
    "            break\n",
    "        for item in answer:\n",
    "            if trick_answer.find(item) >= 0:\n",
    "                print(\"KEEPER: Right. Off you go.\")\n",
    "                break\n",
    "            else:\n",
    "                continue\n",
    "            print(name.upper()+\": Auuuuuuuugh!\")\n",
    "            \n",
    "            \n",
    "            "
   ]
  },
  {
   "cell_type": "code",
   "execution_count": 78,
   "metadata": {},
   "outputs": [
    {
     "data": {
      "text/plain": [
       "range(0, 4)"
      ]
     },
     "execution_count": 78,
     "metadata": {},
     "output_type": "execute_result"
    }
   ],
   "source": [
    "for i in range(file_len(\"answers.txt\")):\n",
    "    name = input(\"What is your name? \").stip(\"!. \")\n",
    "    quest = input(\"What is your quest? \").stip(\"!. \")\n",
    "    "
   ]
  },
  {
   "cell_type": "code",
   "execution_count": 73,
   "metadata": {},
   "outputs": [],
   "source": [
    "with open('answers.txt', 'r') as f:\n",
    "    content=f."
   ]
  },
  {
   "cell_type": "code",
   "execution_count": 75,
   "metadata": {},
   "outputs": [],
   "source": [
    "f.close()"
   ]
  },
  {
   "cell_type": "code",
   "execution_count": null,
   "metadata": {},
   "outputs": [],
   "source": [
    "print(\"Stop! Who would cross the Bridge of Death must answer me these questions three, 'ere the other side he see.\")\n",
    "name = input(\"What is your name? \").stip(\". \")\n",
    "quest = input(\"What is your quest? \").stip(\". \")"
   ]
  }
 ],
 "metadata": {
  "kernelspec": {
   "display_name": "Python 3",
   "language": "python",
   "name": "python3"
  },
  "language_info": {
   "codemirror_mode": {
    "name": "ipython",
    "version": 3
   },
   "file_extension": ".py",
   "mimetype": "text/x-python",
   "name": "python",
   "nbconvert_exporter": "python",
   "pygments_lexer": "ipython3",
   "version": "3.8.0"
  }
 },
 "nbformat": 4,
 "nbformat_minor": 4
}
